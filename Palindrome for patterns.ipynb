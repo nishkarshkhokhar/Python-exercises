{
 "cells": [
  {
   "cell_type": "markdown",
   "id": "48718fef",
   "metadata": {},
   "source": [
    "Exercise 18: Print the following pattern\n",
    "\n",
    "Write a program to print the following start pattern using the for loop\n",
    "\n",
    "'* \n",
    "\n",
    "'* *\n",
    "\n",
    "'* * *\n",
    "\n",
    "'* * * * \n",
    "\n",
    "'* * * * * \n",
    "\n",
    "'* * * * \n",
    "\n",
    "'* * * \n",
    "\n",
    "'* * \n",
    "\n",
    "'*"
   ]
  },
  {
   "cell_type": "code",
   "execution_count": 11,
   "id": "13e4b60b",
   "metadata": {},
   "outputs": [],
   "source": [
    "l1 = list(range(5))"
   ]
  },
  {
   "cell_type": "code",
   "execution_count": 10,
   "id": "8b9eaf17",
   "metadata": {},
   "outputs": [],
   "source": [
    "def patterndrome(l1):\n",
    "    for i in range(1,len(l1)+1):\n",
    "        for j in range(1,i+1):\n",
    "            print('*',end='')\n",
    "        print('')\n",
    "\n",
    "    for i in range(len(l1)-1,0,-1):    \n",
    "        for j in range(i,0,-1):\n",
    "            print('*',end='')\n",
    "        print('')"
   ]
  },
  {
   "cell_type": "code",
   "execution_count": 13,
   "id": "97c14b06",
   "metadata": {},
   "outputs": [],
   "source": [
    "l2 = [2]*10"
   ]
  },
  {
   "cell_type": "code",
   "execution_count": 15,
   "id": "6e1168e8",
   "metadata": {},
   "outputs": [
    {
     "name": "stdout",
     "output_type": "stream",
     "text": [
      "*\n",
      "**\n",
      "***\n",
      "****\n",
      "*****\n",
      "******\n",
      "*******\n",
      "********\n",
      "*********\n",
      "**********\n",
      "*********\n",
      "********\n",
      "*******\n",
      "******\n",
      "*****\n",
      "****\n",
      "***\n",
      "**\n",
      "*\n"
     ]
    }
   ],
   "source": [
    "patterndrome(l2)"
   ]
  }
 ],
 "metadata": {
  "kernelspec": {
   "display_name": "Python 3",
   "language": "python",
   "name": "python3"
  },
  "language_info": {
   "codemirror_mode": {
    "name": "ipython",
    "version": 3
   },
   "file_extension": ".py",
   "mimetype": "text/x-python",
   "name": "python",
   "nbconvert_exporter": "python",
   "pygments_lexer": "ipython3",
   "version": "3.8.8"
  }
 },
 "nbformat": 4,
 "nbformat_minor": 5
}
