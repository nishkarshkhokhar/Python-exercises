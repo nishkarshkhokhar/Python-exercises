{
 "cells": [
  {
   "cell_type": "markdown",
   "id": "26b658a3",
   "metadata": {},
   "source": [
    "The Fibonacci Sequence is a series of numbers. The next number is found by adding up the two numbers before it. The first two numbers are 0 and 1.\n",
    "\n",
    "For example, 0, 1, 1, 2, 3, 5, 8, 13, 21. The next number in this series above is 13+21 = 34.\n",
    "\n",
    "Expected output:\n",
    "\n",
    "Fibonacci sequence:\n",
    "    \n",
    "0  1  1  2  3  5  8  13  21  34"
   ]
  },
  {
   "cell_type": "code",
   "execution_count": 1,
   "id": "0585d1c1",
   "metadata": {},
   "outputs": [],
   "source": [
    "seq = [0,1]"
   ]
  },
  {
   "cell_type": "code",
   "execution_count": 10,
   "id": "c832fec6",
   "metadata": {},
   "outputs": [
    {
     "data": {
      "text/plain": [
       "[0, 1, 1, 2, 3, 5, 8, 13]"
      ]
     },
     "execution_count": 10,
     "metadata": {},
     "output_type": "execute_result"
    }
   ],
   "source": [
    "# the last entry is simply the sum of the last two items in the list. keep appending these numbers to get there\n",
    "add = seq[-1]+seq[-2]\n",
    "seq.append(add)\n",
    "seq"
   ]
  },
  {
   "cell_type": "code",
   "execution_count": 12,
   "id": "24aa2cce",
   "metadata": {},
   "outputs": [
    {
     "name": "stdout",
     "output_type": "stream",
     "text": [
      "[0, 1, 1, 2, 3, 5, 8, 13, 21, 34]\n"
     ]
    }
   ],
   "source": [
    "seq = [0,1]\n",
    "\n",
    "for i in range(8):\n",
    "    add = seq[-1]+seq[-2]\n",
    "    seq.append(add)\n",
    "print(seq)"
   ]
  },
  {
   "cell_type": "code",
   "execution_count": null,
   "id": "6b18438a",
   "metadata": {},
   "outputs": [],
   "source": []
  }
 ],
 "metadata": {
  "kernelspec": {
   "display_name": "Python 3",
   "language": "python",
   "name": "python3"
  },
  "language_info": {
   "codemirror_mode": {
    "name": "ipython",
    "version": 3
   },
   "file_extension": ".py",
   "mimetype": "text/x-python",
   "name": "python",
   "nbconvert_exporter": "python",
   "pygments_lexer": "ipython3",
   "version": "3.8.8"
  }
 },
 "nbformat": 4,
 "nbformat_minor": 5
}
