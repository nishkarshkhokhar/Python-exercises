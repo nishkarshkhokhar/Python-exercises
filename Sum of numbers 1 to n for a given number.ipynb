{
 "cells": [
  {
   "cell_type": "markdown",
   "id": "36249b75",
   "metadata": {},
   "source": [
    "##### Exercise 3: Calculate the sum of all numbers from 1 to a given number"
   ]
  },
  {
   "cell_type": "code",
   "execution_count": 4,
   "id": "152d2584",
   "metadata": {},
   "outputs": [
    {
     "data": {
      "text/plain": [
       "range(1, 6)"
      ]
     },
     "execution_count": 4,
     "metadata": {},
     "output_type": "execute_result"
    }
   ],
   "source": [
    "l1 = range(1,6)\n",
    "l1"
   ]
  },
  {
   "cell_type": "code",
   "execution_count": 5,
   "id": "27d2d98d",
   "metadata": {},
   "outputs": [],
   "source": [
    "#Creating a function that returns sum of a list that covers a range of numbers till n\n",
    "def summer(n):\n",
    "    l1 = list(range(1,n+1))\n",
    "    for i in range(1,n+1):\n",
    "        return sum(l1)"
   ]
  },
  {
   "cell_type": "code",
   "execution_count": 6,
   "id": "dc5f22bb",
   "metadata": {},
   "outputs": [
    {
     "data": {
      "text/plain": [
       "15"
      ]
     },
     "execution_count": 6,
     "metadata": {},
     "output_type": "execute_result"
    }
   ],
   "source": [
    "summer(5)"
   ]
  },
  {
   "cell_type": "code",
   "execution_count": 9,
   "id": "bf2e23e7",
   "metadata": {},
   "outputs": [],
   "source": [
    "l1 = list(range(10))"
   ]
  },
  {
   "cell_type": "code",
   "execution_count": 12,
   "id": "ecea7922",
   "metadata": {},
   "outputs": [
    {
     "name": "stdout",
     "output_type": "stream",
     "text": [
      "Enter the number till which you want to find the sum from 1 onwards: 100\n",
      "5050\n"
     ]
    }
   ],
   "source": [
    "#Alternate method\n",
    "n = int(input('Enter the number till which you want to find the sum from 1 onwards: '))\n",
    "\n",
    "l1 = list(range(1,n+1))\n",
    "print(sum(l1))"
   ]
  },
  {
   "cell_type": "code",
   "execution_count": null,
   "id": "ea13c98a",
   "metadata": {},
   "outputs": [],
   "source": []
  }
 ],
 "metadata": {
  "kernelspec": {
   "display_name": "Python 3",
   "language": "python",
   "name": "python3"
  },
  "language_info": {
   "codemirror_mode": {
    "name": "ipython",
    "version": 3
   },
   "file_extension": ".py",
   "mimetype": "text/x-python",
   "name": "python",
   "nbconvert_exporter": "python",
   "pygments_lexer": "ipython3",
   "version": "3.8.8"
  }
 },
 "nbformat": 4,
 "nbformat_minor": 5
}
