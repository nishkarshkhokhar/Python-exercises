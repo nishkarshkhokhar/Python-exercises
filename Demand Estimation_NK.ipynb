{
 "cells": [
  {
   "cell_type": "markdown",
   "id": "e2a47bce",
   "metadata": {},
   "source": [
    "## Exercise 3.3: Python Code for Demand Estimation\n",
    "\n",
    "Complete Steps 3 and 4 of algorithmic thinking for the problem below.\n",
    "\n",
    "### Sample Problem: Demand Estimation for Substitutable Products\n",
    "\n",
    "Write a function named \"demand\" with two input arguments:\n",
    "\n",
    "- `priceVector`: a list of length 2 containing two positive numbers, corresponding to the proposed prices for the two products.\n",
    "- `values`: a list in which each element is a list of length 2, corresponding to the valuation of a customer for the two products.\n",
    "\n",
    "\n",
    "The function should return a list of two numbers, representing the number of customers purchasing each product. Assume the same customer behavior as in the paper coding exercise.\n",
    "\n",
    "\n",
    "**Sample run:** \n",
    "\n",
    "```python\n",
    "values=[[25,15],[18,18],[30,20],[30,30]]\n",
    "priceVector=[25,20]\n",
    "demand(priceVector,values)\n",
    "```\n",
    "\n",
    "**Correct result:**\n",
    "\n",
    "```\n",
    "[2, 1]\n",
    "```\n",
    "\n",
    "\n",
    "\n"
   ]
  },
  {
   "cell_type": "markdown",
   "id": "5b92864f",
   "metadata": {},
   "source": [
    "## Solutions\n",
    "\n",
    "**Steps 1 and 2:** Refer to the in-class exercise.\n",
    "\n",
    "**Step 3. Analyze:** For each part of the instructions above, plan how you would carry them out using Python. For the trickest parts, write fragments of runnable Python code to implement them, while creating sample intermediate inputs to test each fragment separately on the computer. "
   ]
  },
  {
   "cell_type": "code",
   "execution_count": 23,
   "id": "0a3f69de",
   "metadata": {},
   "outputs": [
    {
     "name": "stdout",
     "output_type": "stream",
     "text": [
      "[25, 15]\n",
      "[18, 18]\n",
      "[30, 20]\n",
      "[30, 30]\n"
     ]
    }
   ],
   "source": [
    "# A. Go through the customers\n",
    "values=[[25,15],[18,18],[30,20],[30,30]]\n",
    "for curVal in values:\n",
    "    print(curVal)"
   ]
  },
  {
   "cell_type": "code",
   "execution_count": null,
   "id": "885c14f3",
   "metadata": {},
   "outputs": [],
   "source": [
    "# B. Figure out what each customer will buy\n",
    "if curVal[0]>=priceVector[0] and curVal[1]<priceVector[1]:\n",
    "    print('Purchase Product 0')\n",
    "#product 1 wins    \n",
    "elif curVal[0]<priceVector[0] and curVal[1]>=priceVector[1]:\n",
    "    print('Purchase Product 1')\n",
    "#tie    \n",
    "elif curVal[0]==priceVector[0] and curVal[1]==priceVector[1]:\n",
    "    print('Purchase Product 0')\n",
    "#purchase neither\n",
    "elif curVal[0]<priceVector[0] and curVal[1]<priceVector[1]:\n",
    "    print('No purchase')\n",
    "#both win but one wins more\n",
    "elif curVal[0]>priceVector[0] and curVal[1]>priceVector[1]:\n",
    "    if curVal[0]-priceVector[0]>=curVal[1]-priceVector[1]:\n",
    "        print('Purchase Product 0')\n",
    "    else:\n",
    "        print('Purchase Product 1')"
   ]
  },
  {
   "cell_type": "code",
   "execution_count": 25,
   "id": "09180640",
   "metadata": {},
   "outputs": [
    {
     "data": {
      "text/plain": [
       "[2, 1]"
      ]
     },
     "execution_count": 25,
     "metadata": {},
     "output_type": "execute_result"
    }
   ],
   "source": [
    "#C. Keep track of the total\n",
    "count=[0,0]\n",
    "count[0]+=1\n",
    "count[0]+=1\n",
    "count[1]+=1\n",
    "count"
   ]
  },
  {
   "cell_type": "markdown",
   "id": "52e799a1",
   "metadata": {},
   "source": [
    "**Step 4. Synthesize:** Following the instructions from Step 2 and the code fragments from Step 3, write complete Python code to implement the instructions and solve the problem. You should do this in an incremental fashion and print intermediate outputs as you go to make sure that each part of the code matches your expectations."
   ]
  },
  {
   "cell_type": "code",
   "execution_count": 2,
   "id": "fc915451",
   "metadata": {},
   "outputs": [],
   "source": [
    "values=[[25,15],[18,18],[30,20],[30,30]]\n",
    "priceVector=[25,20]"
   ]
  },
  {
   "cell_type": "code",
   "execution_count": 3,
   "id": "27eafef6",
   "metadata": {},
   "outputs": [
    {
     "name": "stdout",
     "output_type": "stream",
     "text": [
      "price [25, 20]\n",
      "current customer valuations: [25, 15]\n",
      "Purchase Product 0\n",
      "\t Count [0, 1]\n",
      "current customer valuations: [18, 18]\n",
      "Purchase Nothing\n",
      "\t Count [0, 1]\n",
      "current customer valuations: [30, 20]\n",
      "Purchase Product 0\n",
      "\t Count [0, 2]\n",
      "current customer valuations: [30, 30]\n",
      "Purchase Product 1\n",
      "\t Count [1, 2]\n"
     ]
    }
   ],
   "source": [
    "# Version for debugging: with intermediate printing and no function encapsulation-do it yourself\n",
    "count=[0,0]\n",
    "print('price',priceVector)\n",
    "for curVal in values:\n",
    "    print('current customer valuations:',curVal)\n",
    "    d0 = curVal[0]-priceVector[0]\n",
    "    d1 = curVal[1]-priceVector[1]\n",
    "\n",
    "    if d0<0 and d1<0:\n",
    "        print('Purchase Nothing')\n",
    "    elif d0<d1:\n",
    "        print('Purchase Product 1')\n",
    "        count[0]+=1\n",
    "    else:\n",
    "        print('Purchase Product 0')\n",
    "        count[1]+=1\n",
    "    print('\\t','Count',count)"
   ]
  },
  {
   "cell_type": "code",
   "execution_count": 60,
   "id": "f2083b71",
   "metadata": {},
   "outputs": [],
   "source": [
    "# Version for debugging: with intermediate printing and no function encapsulation\n",
    "def demand(priceVector,values):\n",
    "    count=[0,0]\n",
    "    print('price',priceVector)\n",
    "    for curVal in values:\n",
    "        print('current customer valuations:',curVal)\n",
    "        d0 = curVal[0]-priceVector[0]\n",
    "        d1 = curVal[1]-priceVector[1]\n",
    "\n",
    "        if d0<0 and d1<0:\n",
    "            print('Purchase Nothing')\n",
    "        elif d0<d1:\n",
    "            print('Purchase Product 1')\n",
    "            count[1]+=1\n",
    "        else:\n",
    "            print('Purchase Product 0')\n",
    "            count[0]+=1\n",
    "        print('\\t','Count',count)"
   ]
  },
  {
   "cell_type": "code",
   "execution_count": 65,
   "id": "ed0fc7d6",
   "metadata": {},
   "outputs": [],
   "source": [
    "# Final code (modify the above after it already works)\n",
    "def demand(priceVector,values):\n",
    "    count=[0,0]\n",
    "    for curVal in values:\n",
    "        d0 = curVal[0]-priceVector[0]\n",
    "        d1 = curVal[1]-priceVector[1]\n",
    "\n",
    "        if d0<0 and d1<0:\n",
    "            continue\n",
    "        elif d0<d1:\n",
    "            count[1]+=1\n",
    "        else:\n",
    "            count[0]+=1\n",
    "    print(count)"
   ]
  },
  {
   "cell_type": "code",
   "execution_count": 66,
   "id": "4b12a0cf",
   "metadata": {},
   "outputs": [
    {
     "name": "stdout",
     "output_type": "stream",
     "text": [
      "[2, 1]\n"
     ]
    }
   ],
   "source": [
    "# Test code\n",
    "values=[[25,15],[18,18],[30,20],[30,30]]\n",
    "priceVector=[25,20]\n",
    "demand(priceVector,values)"
   ]
  },
  {
   "cell_type": "code",
   "execution_count": null,
   "id": "d6bd06b3",
   "metadata": {},
   "outputs": [],
   "source": []
  }
 ],
 "metadata": {
  "kernelspec": {
   "display_name": "Python 3",
   "language": "python",
   "name": "python3"
  },
  "language_info": {
   "codemirror_mode": {
    "name": "ipython",
    "version": 3
   },
   "file_extension": ".py",
   "mimetype": "text/x-python",
   "name": "python",
   "nbconvert_exporter": "python",
   "pygments_lexer": "ipython3",
   "version": "3.8.8"
  }
 },
 "nbformat": 4,
 "nbformat_minor": 5
}
