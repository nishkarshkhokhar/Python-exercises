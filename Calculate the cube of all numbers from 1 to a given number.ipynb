{
 "cells": [
  {
   "cell_type": "markdown",
   "id": "0fd61c4a",
   "metadata": {},
   "source": [
    "Exercise 16: Calculate the cube of all numbers from 1 to a given number\n",
    "\n",
    "Write a program to print the cube of all numbers from 1 to a given number\n",
    "\n",
    "Given:\n",
    "\n",
    "input_number = 6\n",
    "\n",
    "Expected output:\n",
    "\n",
    "Current Number is : 1  and the cube is 1\n",
    "\n",
    "Current Number is : 2  and the cube is 8\n",
    "\n",
    "Current Number is : 3  and the cube is 27\n",
    "\n",
    "Current Number is : 4  and the cube is 64\n",
    "\n",
    "Current Number is : 5  and the cube is 125\n",
    "\n",
    "Current Number is : 6  and the cube is 216"
   ]
  },
  {
   "cell_type": "code",
   "execution_count": 11,
   "id": "d5eba65a",
   "metadata": {},
   "outputs": [],
   "source": [
    "def cube():    \n",
    "    num = int(input('input_number: '))\n",
    "    l = list(range(1,num+1))\n",
    "\n",
    "    for i in range(len(l)):\n",
    "        print(f'Current Number is : {l[i]} and the cube is {l[i]**3}')"
   ]
  },
  {
   "cell_type": "code",
   "execution_count": 12,
   "id": "793981b3",
   "metadata": {},
   "outputs": [
    {
     "name": "stdout",
     "output_type": "stream",
     "text": [
      "input_number: 5\n",
      "Current Number is : 1 and the cube is 1\n",
      "Current Number is : 2 and the cube is 8\n",
      "Current Number is : 3 and the cube is 27\n",
      "Current Number is : 4 and the cube is 64\n",
      "Current Number is : 5 and the cube is 125\n"
     ]
    }
   ],
   "source": [
    "cube()"
   ]
  },
  {
   "cell_type": "code",
   "execution_count": null,
   "id": "84ba0942",
   "metadata": {},
   "outputs": [],
   "source": []
  }
 ],
 "metadata": {
  "kernelspec": {
   "display_name": "Python 3",
   "language": "python",
   "name": "python3"
  },
  "language_info": {
   "codemirror_mode": {
    "name": "ipython",
    "version": 3
   },
   "file_extension": ".py",
   "mimetype": "text/x-python",
   "name": "python",
   "nbconvert_exporter": "python",
   "pygments_lexer": "ipython3",
   "version": "3.8.8"
  }
 },
 "nbformat": 4,
 "nbformat_minor": 5
}
