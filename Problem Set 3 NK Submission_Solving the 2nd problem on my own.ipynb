{
 "cells": [
  {
   "cell_type": "markdown",
   "metadata": {},
   "source": [
    "# Name: Nishkarsh Khokhar\n",
    "\n",
    "# Problem Set 3\n",
    "\n",
    "### Learning Objective:\n",
    "\n",
    "- Create Python code to automate a given task.\n",
    "\n",
    "### Overview:\n",
    "\n",
    "This problem set assesses your algorithmic thinking, which is the focus of Week 3. For each problem, you are required to go through each of four steps of algorithmic thinking. See the sample solutions to Exercise 3.3 for an example of the desired format of your responses.\n",
    "\n",
    "### Grading\n",
    "\n",
    "There are three possible scores you can get from submitting this assignment on time (submitting a blank file or one without any apparent effort does not count). Note that the rubric is designed to incentivize you to go for 100% mastery of the material, as the little details matter a lot in programming. \n",
    "\n",
    "| Grade | Description |\n",
    "|--|--|\n",
    "| 5 out of 5 | Perfect submission with no significant errors. | \n",
    "| 4 out of 5 | Near perfect submission with one or more significant errors. |\n",
    "| 2 out of 5 | Apparent effort but far from perfect. |\n",
    "\n",
    "\n",
    "## Q1. Investment Accounting \n",
    "\n",
    "This question asks you to create a tool to perform simple accounting for stock trading. Write a function called \"accounting\" with two input arguments:\n",
    "\n",
    "- prices: a list of positive numbers corresponding to the price of a stock in successive days. \n",
    "- changes: a list of integers (positive or negative) corresponding to the change in the number of shares carried. A positive number corresponds to buying shares of the stock and a negative number corresponds to selling. It is possible for you to own net negative shares of the stock.\n",
    "\n",
    "You may assume that the two lists are of the same length. The function should return (not print) the following two numbers:\n",
    "\n",
    "- net change in shares: the sum of the numbers in the list \"changes\".\n",
    "- net change in cash: the net money spent or earned over the trades in the list \"changes\". Buying the stock costs money and selling it earns money. \n",
    "\n",
    "For example, if `prices=[10,12,13,8,7,15]` and `changes=[3,2,-5,3,1,-5]`, the following table illustrates the calculations.\n",
    "\n",
    "|Price | Change | Cashflow |\n",
    "|--|--|--|\n",
    "|10|+3 | -30 |\n",
    "|12|+2 | -24 |\n",
    "|13|-5 | 65 |\n",
    "|8 | +3 | -24 |\n",
    "|7 | +1 | -7 |\n",
    "|15|-5 | 75 |\n",
    "|**Net**| **-1** | **55** |\n",
    "\n",
    "**Sample run:**\n",
    "```python\n",
    "netShares,netCash=accounting([10,12,13,8,7,15],[3,2,-5,3,1,-5])\n",
    "print(f'Net change in position: {netShares} shares.')\n",
    "print(f'Net change in cash: {netCash} dollars.')\n",
    "```\n",
    "\n",
    "**Sample output:**\n",
    "```\n",
    "Net change in position: -1 shares.\n",
    "Net change in cash: 55 dollars.\n",
    "```"
   ]
  },
  {
   "cell_type": "markdown",
   "metadata": {},
   "source": [
    "### Applying Algorithmic Thinking:\n",
    "\n",
    "**Step 1. Understand** (Write your summary of the task in this cell:)\n",
    "\n",
    "Shares are bought(and sold) each day for which there is a cash outflow(and inflow). Our goal is to find out that at the end of the days(i.e. len(list)), what is the net share that is being carried finally. Same goal is to find the net cash that is left with us at the end of the list."
   ]
  },
  {
   "cell_type": "markdown",
   "metadata": {},
   "source": [
    "**Step 2. Decompose** (Write your instructions in this Markdown cell)\n",
    "\n",
    "Sum the change list and return it as netShares. \n",
    "\n",
    "Sum the cashflow list and return it as netCash. Create cashflow list by using a list comprehension. The cashflow list will be the respective product of prices and shares for each item in both prices and changes list."
   ]
  },
  {
   "cell_type": "markdown",
   "metadata": {},
   "source": [
    "**Step 3. Analyze** (Write code fragments in separate code cells to implement the trickiest steps)"
   ]
  },
  {
   "cell_type": "code",
   "execution_count": 1,
   "metadata": {},
   "outputs": [],
   "source": [
    "prices=[10,12,13,8,7,15]\n",
    "changes=[3,2,-5,3,1,-5]"
   ]
  },
  {
   "cell_type": "code",
   "execution_count": 11,
   "metadata": {},
   "outputs": [],
   "source": [
    "cashflow = sum([prices[i]*changes[i]*-1 for i in range(len(prices))])"
   ]
  },
  {
   "cell_type": "code",
   "execution_count": 12,
   "metadata": {},
   "outputs": [
    {
     "data": {
      "text/plain": [
       "55"
      ]
     },
     "execution_count": 12,
     "metadata": {},
     "output_type": "execute_result"
    }
   ],
   "source": [
    "cashflow"
   ]
  },
  {
   "cell_type": "code",
   "execution_count": 2,
   "metadata": {},
   "outputs": [
    {
     "data": {
      "text/plain": [
       "-1"
      ]
     },
     "execution_count": 2,
     "metadata": {},
     "output_type": "execute_result"
    }
   ],
   "source": [
    "sum(changes)"
   ]
  },
  {
   "cell_type": "markdown",
   "metadata": {},
   "source": [
    "**Step 4. Synthesize** (Combine your code fragments from Step 3, but do so in an incremental fashion and print intermediate results)"
   ]
  },
  {
   "cell_type": "code",
   "execution_count": 2,
   "metadata": {},
   "outputs": [
    {
     "name": "stdout",
     "output_type": "stream",
     "text": [
      "prices \t changes cashflow\n",
      "10 \t 3 \t -30\n",
      "12 \t 2 \t -24\n",
      "13 \t -5 \t 65\n",
      "8 \t 3 \t -24\n",
      "7 \t 1 \t -7\n",
      "15 \t -5 \t 75\n"
     ]
    }
   ],
   "source": [
    "# Version with intermediate printing and without function encapsulation\n",
    "prices=[10,12,13,8,7,15]\n",
    "changes=[3,2,-5,3,1,-5]\n",
    "cashflow = sum([prices[i]*changes[i]*-1 for i in range(len(prices))])\n",
    "print('prices','\\t','changes','cashflow')\n",
    "for i in range(len(prices)):\n",
    "    print(prices[i],'\\t',changes[i],'\\t',prices[i]*changes[i]*-1)"
   ]
  },
  {
   "cell_type": "code",
   "execution_count": 3,
   "metadata": {},
   "outputs": [],
   "source": [
    "cashflow = sum([prices[i]*changes[i]*-1 for i in range(len(prices))])"
   ]
  },
  {
   "cell_type": "code",
   "execution_count": 4,
   "metadata": {},
   "outputs": [
    {
     "name": "stdout",
     "output_type": "stream",
     "text": [
      "prices \t changes cashflow\n",
      "10 \t 3 \t -30\n",
      "12 \t 2 \t -24\n",
      "13 \t -5 \t 65\n",
      "8 \t 3 \t -24\n",
      "7 \t 1 \t -7\n",
      "15 \t -5 \t 75\n"
     ]
    }
   ],
   "source": [
    "print('prices','\\t','changes','cashflow')\n",
    "for i in range(len(prices)):\n",
    "    print(prices[i],'\\t',changes[i],'\\t',prices[i]*changes[i]*-1)"
   ]
  },
  {
   "cell_type": "code",
   "execution_count": 2,
   "metadata": {},
   "outputs": [],
   "source": [
    "# Final code\n",
    "def accounting(prices,changes):\n",
    "    cashflow = sum([prices[i]*changes[i]*-1 for i in range(len(prices))])\n",
    "    return sum(changes),cashflow"
   ]
  },
  {
   "cell_type": "code",
   "execution_count": 3,
   "metadata": {},
   "outputs": [
    {
     "name": "stdout",
     "output_type": "stream",
     "text": [
      "Net change in position: -1 shares.\n",
      "Net change in cash: 55 dollars.\n"
     ]
    }
   ],
   "source": [
    "# Sample run\n",
    "netShares,netCash=accounting([10,12,13,8,7,15],[3,2,-5,3,1,-5])\n",
    "print(f'Net change in position: {netShares} shares.')\n",
    "print(f'Net change in cash: {netCash} dollars.')"
   ]
  },
  {
   "cell_type": "markdown",
   "metadata": {},
   "source": [
    "## Q2. Demand Estimation with $n$ Substitutable Products\n",
    "\n",
    "This exercise generalizes Exercise 3.3 to $n$ products, where $n$ is any positive integer.\n",
    "\n",
    "Write a function called `demand` with two input arguments:\n",
    "\n",
    "- `prices`: a list of $n$ prices, one for each product. \n",
    "- `values`: a list in which each element represents a customer's valuations for the $n$ products. The valuations is a list of length $n$, which corresponds to the customer's willingness to pay for each of the $n$ products.\n",
    "\n",
    "The function should return a list of length $n$ representing the number of each product sold. You should assume that each customer:\n",
    "\n",
    "- Does not purchase anything if his/her valuation for each product is strictly less than its price.\n",
    "- Otherwise, purchase the product in which the difference between his/her valuation and the price is the largest. When there is a tie, the customer will purchase the product with the smaller index. \n",
    "\n",
    "For example, if `prices=[10,8,12]`, then\n",
    "\n",
    "- A customer with valuations `[9,7,11]` purchases nothing.\n",
    "- A customer with valuations `[10,8,12]` purchases product 1.\n",
    "- A customer with valuations `[9,8,12]` purchases product 2.\n",
    "- A customer with valuations `[9,8,13]` purchases product 3.\n",
    "\n",
    "**Sample run 1:**\n",
    "\n",
    "```python\n",
    "prices=[10,8,12]\n",
    "values=[[9,7,11],[10,8,12],[9,8,12],[9,8,13]]\n",
    "ans=demand(prices,values)\n",
    "for i in range(len(prices)):\n",
    "    print(f'Demand for product {i+1}:',ans[i])\n",
    "```\n",
    "\n",
    "**Correct output:**\n",
    "\n",
    "```\n",
    "Demand for product 1: 1\n",
    "Demand for product 2: 1\n",
    "Demand for product 3: 1\n",
    "```\n",
    "\n",
    "**Sample run 2:**\n",
    "\n",
    "```python\n",
    "prices=[20,15,30]\n",
    "values=[[30,30,20],[40,10,15],[18,13,29],[40,30,50],[10,30,50],[10,10,10],[20,15,30]]\n",
    "ans=demand(prices,values)\n",
    "for i in range(len(prices)):\n",
    "    print(f'Demand for product {i+1}:',ans[i])\n",
    "   ```\n",
    "   \n",
    "**Correct output:**\n",
    "\n",
    "```\n",
    "Demand for product 1: 3\n",
    "Demand for product 2: 1\n",
    "Demand for product 3: 1\n",
    "```"
   ]
  },
  {
   "cell_type": "markdown",
   "metadata": {},
   "source": [
    "### Applying Algorithmic Thinking:\n",
    "\n",
    "**Step 1. Understand** (Write your summary of the task in this cell:)\n",
    "\n",
    "For each item in values, compare with prices. Return the number of purchases that will be made for each product. Buy product with maximum difference between values and prices if all have values>prices. buy  first one if difference is same for all, else buy whoever's diff>0. Final output is a LIST."
   ]
  },
  {
   "cell_type": "markdown",
   "metadata": {},
   "source": [
    "**Step 2. Decompose** (Write your instructions in this Markdown cell)\n",
    "\n",
    "Compare differences between values and prices. create a small vector of two items in values and then build from there."
   ]
  },
  {
   "cell_type": "markdown",
   "metadata": {},
   "source": [
    "**Step 3. Analyze** (Write code fragments in separate code cells to implement the trickiest steps)"
   ]
  },
  {
   "cell_type": "code",
   "execution_count": 54,
   "metadata": {},
   "outputs": [],
   "source": [
    "curval= [30,30,20]\n",
    "prices = [20,15,30]"
   ]
  },
  {
   "cell_type": "code",
   "execution_count": 55,
   "metadata": {},
   "outputs": [
    {
     "name": "stdout",
     "output_type": "stream",
     "text": [
      "Buy Product 1\n"
     ]
    }
   ],
   "source": [
    "d0 = curval[0]-prices[0]\n",
    "d1 = curval[1]-prices[1]\n",
    "d2 = curval[2]-prices[2]\n",
    "\n",
    "if d0<0 and d1<0 and d2<0:\n",
    "    print('Purchase Nothing')\n",
    "elif d0>d1 and d0>d2:\n",
    "    print('Buy Product 0')\n",
    "elif d1>d0 and d1>d2:\n",
    "    print('Buy Product 1')\n",
    "elif d2>d1 and d2>d0:\n",
    "    print('Buy Product 2')\n",
    "elif d0==d1==d2:\n",
    "    print('Buy Product 0')"
   ]
  },
  {
   "cell_type": "code",
   "execution_count": null,
   "metadata": {},
   "outputs": [],
   "source": [
    "# compare each element in list of values for each item in values against each element in prices.\n",
    "# if element is more than price increase the counter for that product by 1\n",
    "# else if more than one product has difference of zero, return the product with least index, increase its counter by 1"
   ]
  },
  {
   "cell_type": "code",
   "execution_count": 3,
   "metadata": {},
   "outputs": [],
   "source": [
    "values = [[9,7,11],[10,18,12],[19,8,12],[19,8,13]]\n",
    "prices = [10,8,12]"
   ]
  },
  {
   "cell_type": "code",
   "execution_count": 8,
   "metadata": {},
   "outputs": [
    {
     "name": "stdout",
     "output_type": "stream",
     "text": [
      "index \t item[index] \t prices[index] \t diff\n",
      "2 \t 11 \t\t 12 \t \t -1\n",
      "2 \t 12 \t\t 12 \t \t 10\n",
      "2 \t 12 \t\t 12 \t \t 9\n",
      "2 \t 13 \t\t 12 \t \t 9\n",
      "[-1, 2, 1, 1]\n"
     ]
    }
   ],
   "source": [
    "ans = [0]*len(values)\n",
    "idx=0\n",
    "print('index','\\t','item[index]','\\t','prices[index]','\\t','diff')\n",
    "for item in values:\n",
    "    diff=-1\n",
    "    ans[idx]=-1\n",
    "    for index in range(len(prices)):\n",
    "        if item[index]-prices[index]>diff:\n",
    "            diff=item[index]-prices[index]\n",
    "            if diff>=0:\n",
    "                ans[idx]=index+1\n",
    "    idx +=1\n",
    "    print(index,'\\t',item[index],'\\t''\\t',prices[index],'\\t','\\t',diff)\n",
    "print(ans)\n",
    "\n",
    "for answer in ans:\n",
    "    if answer<0:\n",
    "        print('No product')\n",
    "    else:\n",
    "        print(f'Bought product {answer}')"
   ]
  },
  {
   "cell_type": "code",
   "execution_count": null,
   "metadata": {},
   "outputs": [],
   "source": []
  },
  {
   "cell_type": "code",
   "execution_count": null,
   "metadata": {},
   "outputs": [],
   "source": []
  },
  {
   "cell_type": "markdown",
   "metadata": {},
   "source": [
    "**Step 4. Synthesize** (Combine your code fragments from Step 3, but do so in an incremental fashion and print intermediate results)"
   ]
  },
  {
   "cell_type": "code",
   "execution_count": null,
   "metadata": {},
   "outputs": [],
   "source": [
    "# Version for debugging: with intermediate printing and no function encapsulation\n"
   ]
  },
  {
   "cell_type": "code",
   "execution_count": null,
   "metadata": {},
   "outputs": [],
   "source": [
    "# Final code: removing intermediate printing and encapuslating in a function\n"
   ]
  },
  {
   "cell_type": "code",
   "execution_count": 12,
   "metadata": {},
   "outputs": [
    {
     "name": "stdout",
     "output_type": "stream",
     "text": [
      "Demand for product 0 : 1\n",
      "Demand for product 1 : 1\n",
      "Demand for product 2 : 1\n"
     ]
    }
   ],
   "source": [
    "# Sample run 1\n",
    "prices=[10,8,12]\n",
    "values=[[9,7,11],[10,8,12],[9,8,12],[9,8,13]]\n",
    "ans=demand(prices,values)\n",
    "for i in range(len(prices)):\n",
    "    print('Demand for product',i,':',ans[i])"
   ]
  },
  {
   "cell_type": "code",
   "execution_count": 13,
   "metadata": {},
   "outputs": [
    {
     "name": "stdout",
     "output_type": "stream",
     "text": [
      "Demand for product 0 : 3\n",
      "Demand for product 1 : 1\n",
      "Demand for product 2 : 1\n"
     ]
    }
   ],
   "source": [
    "# Sample run 2\n",
    "prices=[20,15,30]\n",
    "values=[[30,30,20],[40,10,15],[18,13,29],[40,30,50],[10,30,50],[10,10,10],[20,15,30]]\n",
    "ans=demand(prices,values)\n",
    "for i in range(len(prices)):\n",
    "    print('Demand for product',i,':',ans[i])"
   ]
  },
  {
   "cell_type": "markdown",
   "metadata": {},
   "source": [
    "## Q3. Grocery Store Restocking\n",
    "\n",
    "This question asks you to make a tool that helps a grocery store to analyze their policy for restocking shelves for a certain non-perishable item. Write a function called `analyzeScenario` with three input parameters:\n",
    "\n",
    "- `demandList`: a non-empty list of non-negative integers representing the forecasted daily demand for the item, corresponding to a period of consecutive days. The number of days is `len(demandList)`.\n",
    "- `stockingLevel`: a positive integer representing the maximum number of units that the store will stock on its shelves at any time.\n",
    "- `minimumLevel`: a non-negative integer representing the minimum number of units on the shelves that the store can tolerate without restocking. \n",
    "\n",
    "Assume that the store makes its stocking decision at the end of each day after closing. If the leftover inventory on the shelf at the end of a day is strictly below the \"minimumLevel\", then the store will restock to a full shelf, and the inventory at the beginning of the next day will be equal to \"stockingLevel\". If the leftover inventory at the end of a day is greater than or equal to \"minimumLevel\", then the store will not add anything to the shelf, and the inventory at the beginning of the next day will be the same as the leftover inventory. On the first day, the shelf is full, so the inventory level is equal to \"stockingLevel\".\n",
    "\n",
    "Your function should print (not return) the number of times it would decide to restock during the period represented by the input data. \n",
    "\n",
    "For example, the sample run\n",
    "```python\n",
    "analyzeScenario([3,4,2,5,15,3,9,3,1,3,9],10,3)\n",
    "```\n",
    "should result in exactly the following message printed to screen.\n",
    "```\n",
    "The store needs to restock 4 times.\n",
    "```\n",
    "The following table illustrates the inventory dynamics.\n",
    "\n",
    "| Beginning Inventory | Demand |   Leftover Inventory | Restock? |\n",
    "|--|--|--|--|\n",
    "|10|3 |7 |No |\n",
    "|7 |4 |3 |No |\n",
    "|3 |2 |1 | Yes |\n",
    "|10|5 |5 | No |\n",
    "| 5|15|0 |Yes |\n",
    "|10|3|7 | No|\n",
    "|7|9 | 0 | Yes |\n",
    "|10|3| 7 | No |\n",
    "|7 |1 | 6 | No |\n",
    "|6 | 3|  3 | No |\n",
    "|3 | 9 |  0 | Yes |\n",
    "|**# of times to restock:**|` `|` `| **4**|\n",
    "\n",
    "Note that if demand is greater than the beginning inventory, the leftover inventory is zero. Otherwise, the leftover inventory is equal to the beginning inventory minus the demand. The final answer (the number of times to restock) is equal to the number of Yes's in the last column of the table.\n",
    "\n",
    "**Sample run 2:**\n",
    "```python\n",
    "analyzeScenario([3,4,2,5,15,3,9,3,1,3,9],9,3)\n",
    "```\n",
    "\n",
    "The printed message should be exactly as below:\n",
    "```\n",
    "The store needs to restock 6 times.\n",
    "\n",
    "```\n",
    "\n",
    "**Sample run 3:**\n",
    "```python\n",
    "analyzeScenario([8,3,2,6,9,3,5,2,9,10],9,5)\n",
    "```\n",
    "\n",
    "The printed message should be exactly as below:\n",
    "\n",
    "```\n",
    "The store needs to restock 7 times.\n",
    "\n",
    "```"
   ]
  },
  {
   "cell_type": "markdown",
   "metadata": {},
   "source": [
    "### Applying Algorithmic Thinking:\n",
    "\n",
    "**Step 1. Understand** (Write your summary of the task in this cell:)\n",
    "\n",
    "stockingLevel = Max units the store will stock \n",
    "\n",
    "minimumLevel = Min units the store will stock\n",
    "\n",
    "We start with stockingLevel for inventory. If inventory at the end of day falls below stockingLevel, the store needs to restock for the next day and it will do so till it reaches the stockingLevel.\n",
    "\n",
    "Else if inventory is more than or equal to minimumLevel, there is no need to restock and the leftover inventory from previous day becomes the starting inventory for the next day. \n",
    "\n",
    "The goal is to count the number of times the store needs to restock for a given number of days(which is provided by the length of the demandList)    "
   ]
  },
  {
   "cell_type": "markdown",
   "metadata": {},
   "source": [
    "**Step 2. Decompose** (Write your instructions in this Markdown cell)\n",
    "\n",
    "Start with inventory=stockingLevel.\n",
    "\n",
    "For each item except the first item in demandList, if demand is such that inventory < minimumLevel, then restock column should say Yes. The next day's inventory will be reset to stockingLevel. \n",
    "\n",
    "If demand is not high enough to take inventory levels below minimumLevel, then the leftover inventory will be inventory for the next day. Restock column should say No.\n",
    "\n",
    "Subtract demand from inventory for the first item in demandList to get Leftover. For the second item, subtract demand from leftover. If leftover<minimumLevel, then inventory = stockingLevel\n",
    "\n",
    "Return the count of 'Yes' in the restock column to finish the problem."
   ]
  },
  {
   "cell_type": "markdown",
   "metadata": {},
   "source": [
    "**Step 3. Analyze** (Write code fragments in separate code cells to implement the trickiest steps)"
   ]
  },
  {
   "cell_type": "code",
   "execution_count": 10,
   "metadata": {},
   "outputs": [],
   "source": [
    "demandList = [3,4,2,5,15,3,9,3,1,3,9]\n",
    "stockingLevel = 10\n",
    "minimumLevel = 3"
   ]
  },
  {
   "cell_type": "code",
   "execution_count": 25,
   "metadata": {},
   "outputs": [
    {
     "name": "stdout",
     "output_type": "stream",
     "text": [
      "Inv Demand Leftover Restock\n",
      "10 \t 3 \t 7\n",
      "7 \t 4 \t 3\n",
      "3 \t 2 \t 1\n",
      "10 \t 5 \t 5\n",
      "5 \t 15 \t -10\n",
      "10 \t 3 \t 7\n",
      "7 \t 9 \t -2\n",
      "10 \t 3 \t 7\n",
      "7 \t 1 \t 6\n",
      "6 \t 3 \t 3\n",
      "3 \t 9 \t -6\n",
      "4\n"
     ]
    }
   ],
   "source": [
    "inventory = stockingLevel\n",
    "restock = 0\n",
    "print('Inv','Demand','Leftover','Restock')\n",
    "for item in demandList:\n",
    "    lastvalinventory = inventory\n",
    "    leftover = inventory-item\n",
    "    if leftover>=minimumLevel:\n",
    "        inventory = leftover\n",
    "    elif leftover<minimumLevel:\n",
    "        inventory = stockingLevel\n",
    "        restock += 1\n",
    "    print(lastvalinventory,'\\t',item,'\\t',leftover)\n",
    "print(restock)"
   ]
  },
  {
   "cell_type": "code",
   "execution_count": 119,
   "metadata": {},
   "outputs": [
    {
     "data": {
      "text/plain": [
       "[3, 4, 2, 5, 15, 3, 9, 3, 1, 3, 9]"
      ]
     },
     "execution_count": 119,
     "metadata": {},
     "output_type": "execute_result"
    }
   ],
   "source": [
    "demandList"
   ]
  },
  {
   "cell_type": "markdown",
   "metadata": {},
   "source": [
    "**Step 4. Synthesize** (Combine your code fragments from Step 3, but do so in an incremental fashion and print intermediate results)"
   ]
  },
  {
   "cell_type": "code",
   "execution_count": 11,
   "metadata": {},
   "outputs": [
    {
     "name": "stdout",
     "output_type": "stream",
     "text": [
      "Inv Demand Leftover Restock\n",
      "10 \t 3 \t 7\n",
      "7 \t 4 \t 3\n",
      "3 \t 2 \t 1\n",
      "10 \t 5 \t 5\n",
      "5 \t 15 \t -10\n",
      "10 \t 3 \t 7\n",
      "7 \t 9 \t -2\n",
      "10 \t 3 \t 7\n",
      "7 \t 1 \t 6\n",
      "6 \t 3 \t 3\n",
      "3 \t 9 \t -6\n",
      "4\n"
     ]
    }
   ],
   "source": [
    "# Code with intermediate printing\n",
    "inventory = stockingLevel\n",
    "restock = 0\n",
    "\n",
    "print('Inv','Demand','Leftover','Restock')\n",
    "\n",
    "for item in demandList:\n",
    "    lastvalinventory = inventory\n",
    "    leftover = inventory-item\n",
    "    if leftover>=minimumLevel:\n",
    "        inventory = leftover\n",
    "    elif leftover<minimumLevel:\n",
    "        inventory = stockingLevel\n",
    "        restock += 1\n",
    "    print(lastvalinventory,'\\t',item,'\\t',leftover)\n",
    "\n",
    "print(restock)"
   ]
  },
  {
   "cell_type": "code",
   "execution_count": 14,
   "metadata": {},
   "outputs": [],
   "source": [
    "# Final code\n",
    "def analyzeScenario(demandList,stockingLevel,minimumLevel):\n",
    "    inventory = stockingLevel\n",
    "    restock = 0\n",
    "\n",
    "    #print('Inv','Demand','Leftover','Restock')\n",
    "\n",
    "    for item in demandList:\n",
    "        lastvalinventory = inventory\n",
    "        leftover = inventory-item\n",
    "        if leftover>=minimumLevel:\n",
    "            inventory = leftover\n",
    "        elif leftover<minimumLevel:\n",
    "            inventory = stockingLevel\n",
    "            restock += 1\n",
    "        #print(lastvalinventory,'\\t',item,'\\t',leftover)\n",
    "\n",
    "    print(f' The store needs to restock {restock} times.')"
   ]
  },
  {
   "cell_type": "code",
   "execution_count": 18,
   "metadata": {},
   "outputs": [
    {
     "name": "stdout",
     "output_type": "stream",
     "text": [
      "The store needs to restock 4 times.\n"
     ]
    }
   ],
   "source": [
    "# Sample run 1\n",
    "analyzeScenario([3,4,2,5,15,3,9,3,1,3,9],10,3)"
   ]
  },
  {
   "cell_type": "code",
   "execution_count": 16,
   "metadata": {},
   "outputs": [
    {
     "name": "stdout",
     "output_type": "stream",
     "text": [
      " The store needs to restock 6 times.\n"
     ]
    }
   ],
   "source": [
    "# Sample run 2\n",
    "analyzeScenario([3,4,2,5,15,3,9,3,1,3,9],9,3)"
   ]
  },
  {
   "cell_type": "code",
   "execution_count": 17,
   "metadata": {},
   "outputs": [
    {
     "name": "stdout",
     "output_type": "stream",
     "text": [
      " The store needs to restock 7 times.\n"
     ]
    }
   ],
   "source": [
    "# Sample run 3\n",
    "analyzeScenario([8,3,2,6,9,3,5,2,9,10],9,5)"
   ]
  }
 ],
 "metadata": {
  "kernelspec": {
   "display_name": "Python 3",
   "language": "python",
   "name": "python3"
  },
  "language_info": {
   "codemirror_mode": {
    "name": "ipython",
    "version": 3
   },
   "file_extension": ".py",
   "mimetype": "text/x-python",
   "name": "python",
   "nbconvert_exporter": "python",
   "pygments_lexer": "ipython3",
   "version": "3.8.8"
  }
 },
 "nbformat": 4,
 "nbformat_minor": 2
}
