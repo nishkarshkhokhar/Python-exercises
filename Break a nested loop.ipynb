{
 "cells": [
  {
   "cell_type": "code",
   "execution_count": 4,
   "id": "2a8e1ac7",
   "metadata": {},
   "outputs": [
    {
     "name": "stdout",
     "output_type": "stream",
     "text": [
      "1 0\n",
      "2 0\n",
      "2 1\n",
      "3 0\n",
      "3 1\n",
      "3 2\n"
     ]
    }
   ],
   "source": [
    "for i in range(4):\n",
    "    for j in range(4):\n",
    "        if j == i:\n",
    "            break\n",
    "        print(i, j)"
   ]
  },
  {
   "cell_type": "markdown",
   "id": "2d1153a2",
   "metadata": {},
   "source": [
    "##### j takes 0, but i is 0 initially, hence it is broken. \n",
    "##### when i takes 1, j takes 0. then j takes 1 and loop is broken again.\n",
    "##### Then i takes 2, j takes 0. then j takes 1 and loop breaks when j is 2.\n",
    "##### finally i takes 3, j takes 0, then 1 and then 2. loop breaks when j takes 3. and so on...\n"
   ]
  },
  {
   "cell_type": "code",
   "execution_count": null,
   "id": "c0f24e63",
   "metadata": {},
   "outputs": [],
   "source": []
  }
 ],
 "metadata": {
  "kernelspec": {
   "display_name": "Python 3",
   "language": "python",
   "name": "python3"
  },
  "language_info": {
   "codemirror_mode": {
    "name": "ipython",
    "version": 3
   },
   "file_extension": ".py",
   "mimetype": "text/x-python",
   "name": "python",
   "nbconvert_exporter": "python",
   "pygments_lexer": "ipython3",
   "version": "3.8.8"
  }
 },
 "nbformat": 4,
 "nbformat_minor": 5
}
