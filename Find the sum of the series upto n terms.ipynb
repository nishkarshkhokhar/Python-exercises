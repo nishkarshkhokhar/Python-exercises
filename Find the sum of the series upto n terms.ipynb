{
 "cells": [
  {
   "cell_type": "markdown",
   "id": "ec272d3c",
   "metadata": {},
   "source": [
    "Exercise 17: Find the sum of the series upto n terms\n",
    "\n",
    "Write a program to calculate the sum of series up to n term. For example, if n =5 the series will become 2 + 22 + 222 + 2222 + 22222 = 24690"
   ]
  },
  {
   "cell_type": "code",
   "execution_count": 23,
   "id": "d99591fb",
   "metadata": {},
   "outputs": [
    {
     "name": "stdout",
     "output_type": "stream",
     "text": [
      "['2', '22', '222', '2222', '22222']\n"
     ]
    }
   ],
   "source": [
    "num = str(2)\n",
    "l = []\n",
    "#add each instance of 2 to the previous number, create an empty list?\n",
    "for i in range(1,n+1):\n",
    "    l.append(num*i)\n",
    "print(l)"
   ]
  },
  {
   "cell_type": "code",
   "execution_count": 24,
   "id": "b5cee69e",
   "metadata": {},
   "outputs": [],
   "source": [
    "numlist = [int(i) for i in l]"
   ]
  },
  {
   "cell_type": "code",
   "execution_count": 25,
   "id": "773ada76",
   "metadata": {},
   "outputs": [
    {
     "data": {
      "text/plain": [
       "[2, 22, 222, 2222, 22222]"
      ]
     },
     "execution_count": 25,
     "metadata": {},
     "output_type": "execute_result"
    }
   ],
   "source": [
    "numlist"
   ]
  },
  {
   "cell_type": "code",
   "execution_count": 26,
   "id": "7e9115e2",
   "metadata": {},
   "outputs": [
    {
     "name": "stdout",
     "output_type": "stream",
     "text": [
      "24690\n"
     ]
    }
   ],
   "source": [
    "print(sum(numlist))"
   ]
  },
  {
   "cell_type": "code",
   "execution_count": 29,
   "id": "41e740f3",
   "metadata": {},
   "outputs": [],
   "source": [
    "def seriessummer(n):\n",
    "    num = str(2)\n",
    "    l = []\n",
    "    \n",
    "    #add each instance of 2 to the previous number, create an empty list?\n",
    "    for i in range(1,n+1):\n",
    "        l.append(num*i)\n",
    "    #print(l)\n",
    "    \n",
    "    # creating a integer list for all items in list l \n",
    "    numlist = [int(i) for i in l]        \n",
    "    return sum(numlist)"
   ]
  },
  {
   "cell_type": "code",
   "execution_count": 30,
   "id": "0f1fc35c",
   "metadata": {},
   "outputs": [
    {
     "data": {
      "text/plain": [
       "24690"
      ]
     },
     "execution_count": 30,
     "metadata": {},
     "output_type": "execute_result"
    }
   ],
   "source": [
    "seriessummer(5)"
   ]
  },
  {
   "cell_type": "code",
   "execution_count": 32,
   "id": "d9cc1509",
   "metadata": {},
   "outputs": [
    {
     "data": {
      "text/plain": [
       "24"
      ]
     },
     "execution_count": 32,
     "metadata": {},
     "output_type": "execute_result"
    }
   ],
   "source": [
    "seriessummer(2)"
   ]
  },
  {
   "cell_type": "code",
   "execution_count": 33,
   "id": "c9486cbc",
   "metadata": {},
   "outputs": [
    {
     "name": "stdout",
     "output_type": "stream",
     "text": [
      "2+22+222+2222+22222+\n",
      "Sum of above series is: 24690\n"
     ]
    }
   ],
   "source": [
    "#Alternate method\n",
    "n = 5\n",
    "# first number of sequence\n",
    "start = 2\n",
    "sum_seq = 0\n",
    "\n",
    "# run loop n times\n",
    "for i in range(0, n):\n",
    "    print(start, end=\"+\")\n",
    "    sum_seq += start\n",
    "    # calculate the next term\n",
    "    start = start * 10 + 2\n",
    "print(\"\\nSum of above series is:\", sum_seq)"
   ]
  },
  {
   "cell_type": "code",
   "execution_count": null,
   "id": "307962db",
   "metadata": {},
   "outputs": [],
   "source": []
  }
 ],
 "metadata": {
  "kernelspec": {
   "display_name": "Python 3",
   "language": "python",
   "name": "python3"
  },
  "language_info": {
   "codemirror_mode": {
    "name": "ipython",
    "version": 3
   },
   "file_extension": ".py",
   "mimetype": "text/x-python",
   "name": "python",
   "nbconvert_exporter": "python",
   "pygments_lexer": "ipython3",
   "version": "3.8.8"
  }
 },
 "nbformat": 4,
 "nbformat_minor": 5
}
