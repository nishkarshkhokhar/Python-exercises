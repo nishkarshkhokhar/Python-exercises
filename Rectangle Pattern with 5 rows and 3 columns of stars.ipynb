{
 "cells": [
  {
   "cell_type": "markdown",
   "id": "9e289c2b",
   "metadata": {},
   "source": [
    "##### Practice: Print a rectangle Pattern with 5 rows and 3 columns of stars\n",
    "\n",
    "Solve the below Python nested loop exercise.\n",
    "\n",
    "Print following rectangle of stars\n",
    "\n",
    "'***\n",
    "\n",
    "'***\n",
    "\n",
    "'***\n",
    "\n",
    "'***\n",
    "\n",
    "'***"
   ]
  },
  {
   "cell_type": "code",
   "execution_count": 15,
   "id": "6ef7a3a3",
   "metadata": {},
   "outputs": [
    {
     "name": "stdout",
     "output_type": "stream",
     "text": [
      "***\n",
      "\n",
      "\n",
      "***\n",
      "\n",
      "\n",
      "***\n",
      "\n",
      "\n",
      "***\n",
      "\n",
      "\n",
      "***\n",
      "\n",
      "\n"
     ]
    }
   ],
   "source": [
    "row = 5\n",
    "\n",
    "for i in range(row):\n",
    "    for j in range(3):\n",
    "        print('*',end = '')\n",
    "    print('\\n')\n",
    "    print('')"
   ]
  },
  {
   "cell_type": "code",
   "execution_count": null,
   "id": "f835fb9a",
   "metadata": {},
   "outputs": [],
   "source": []
  }
 ],
 "metadata": {
  "kernelspec": {
   "display_name": "Python 3",
   "language": "python",
   "name": "python3"
  },
  "language_info": {
   "codemirror_mode": {
    "name": "ipython",
    "version": 3
   },
   "file_extension": ".py",
   "mimetype": "text/x-python",
   "name": "python",
   "nbconvert_exporter": "python",
   "pygments_lexer": "ipython3",
   "version": "3.8.8"
  }
 },
 "nbformat": 4,
 "nbformat_minor": 5
}
