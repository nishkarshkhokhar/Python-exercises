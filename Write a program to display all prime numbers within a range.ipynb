{
 "cells": [
  {
   "cell_type": "markdown",
   "id": "085974c9",
   "metadata": {},
   "source": [
    "Exercise 11: Write a program to display all prime numbers within a range"
   ]
  },
  {
   "cell_type": "markdown",
   "id": "74542b4d",
   "metadata": {},
   "source": [
    "Note: A Prime Number is a number that cannot be made by multiplying other whole numbers. A prime number is a natural number greater than 1 that is not a product of two smaller natural numbers\n",
    "\n",
    "Examples:\n",
    "\n",
    "    6 is not a prime mumber because it can be made by 2×3 = 6\n",
    "    37 is a prime number because no other whole numbers multiply together to make it"
   ]
  },
  {
   "cell_type": "code",
   "execution_count": 3,
   "id": "ef1ab583",
   "metadata": {},
   "outputs": [
    {
     "name": "stdout",
     "output_type": "stream",
     "text": [
      "2\n",
      "3\n",
      "5\n"
     ]
    }
   ],
   "source": [
    "l1 = [1,2,3,4,5]\n",
    "# all prime number are greater than 1\n",
    "# if less than  or equal to 1 then its not a prime number\n",
    "\n",
    "for num in range(0,len(l1)+1):\n",
    "    # 1 is not a prime number\n",
    "    if num>1:\n",
    "        # check for factors\n",
    "        for element in range(2,num):\n",
    "            if num%element==0:\n",
    "                #not a prime number so break the inner loop\n",
    "                #look for next number\n",
    "                break\n",
    "        else:\n",
    "            print(num)"
   ]
  },
  {
   "cell_type": "code",
   "execution_count": 4,
   "id": "135696fb",
   "metadata": {},
   "outputs": [],
   "source": [
    "def primecounter(l1):\n",
    "    for num in range(0,len(l1)+1):\n",
    "        # 1 is not a prime number\n",
    "        if num>1:\n",
    "            # check for factors\n",
    "            for element in range(2,num):\n",
    "                if num%element==0:\n",
    "                    #not a prime number so break the inner loop\n",
    "                    #look for next number\n",
    "                    break\n",
    "            else:\n",
    "                print(num)"
   ]
  },
  {
   "cell_type": "code",
   "execution_count": 9,
   "id": "7795fe21",
   "metadata": {},
   "outputs": [
    {
     "name": "stdout",
     "output_type": "stream",
     "text": [
      "2\n",
      "3\n",
      "5\n",
      "7\n"
     ]
    }
   ],
   "source": [
    "l = range(10)\n",
    "primecounter(l)"
   ]
  },
  {
   "cell_type": "code",
   "execution_count": null,
   "id": "b4cfb7dc",
   "metadata": {},
   "outputs": [],
   "source": []
  }
 ],
 "metadata": {
  "kernelspec": {
   "display_name": "Python 3",
   "language": "python",
   "name": "python3"
  },
  "language_info": {
   "codemirror_mode": {
    "name": "ipython",
    "version": 3
   },
   "file_extension": ".py",
   "mimetype": "text/x-python",
   "name": "python",
   "nbconvert_exporter": "python",
   "pygments_lexer": "ipython3",
   "version": "3.8.8"
  }
 },
 "nbformat": 4,
 "nbformat_minor": 5
}
