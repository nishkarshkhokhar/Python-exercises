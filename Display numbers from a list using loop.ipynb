{
 "cells": [
  {
   "cell_type": "markdown",
   "id": "18851347",
   "metadata": {},
   "source": [
    "Exercise 5: Display numbers from a list using loop\n",
    "\n",
    "Write a program to display only those numbers from a list that satisfy the following conditions\n",
    "\n",
    "    The number must be divisible by five\n",
    "    If the number is greater than 150, then skip it and move to the next number\n",
    "    If the number is greater than 500, then stop the loop"
   ]
  },
  {
   "cell_type": "code",
   "execution_count": 1,
   "id": "1a81d578",
   "metadata": {},
   "outputs": [],
   "source": [
    "#create a list of numbers that the program will be tested on\n",
    "numbers = [2,4,14,15,20,23,25,170,210,555,10,700,800]"
   ]
  },
  {
   "cell_type": "code",
   "execution_count": 6,
   "id": "f46f0425",
   "metadata": {},
   "outputs": [
    {
     "name": "stdout",
     "output_type": "stream",
     "text": [
      "15\n",
      "20\n",
      "25\n"
     ]
    }
   ],
   "source": [
    "for i in numbers:\n",
    "        if i>500:\n",
    "            break\n",
    "        elif i>150:\n",
    "            continue\n",
    "        elif i % 5 ==0:\n",
    "            print(i)"
   ]
  },
  {
   "cell_type": "code",
   "execution_count": null,
   "id": "65bc6a06",
   "metadata": {},
   "outputs": [],
   "source": []
  }
 ],
 "metadata": {
  "kernelspec": {
   "display_name": "Python 3",
   "language": "python",
   "name": "python3"
  },
  "language_info": {
   "codemirror_mode": {
    "name": "ipython",
    "version": 3
   },
   "file_extension": ".py",
   "mimetype": "text/x-python",
   "name": "python",
   "nbconvert_exporter": "python",
   "pygments_lexer": "ipython3",
   "version": "3.8.8"
  }
 },
 "nbformat": 4,
 "nbformat_minor": 5
}
